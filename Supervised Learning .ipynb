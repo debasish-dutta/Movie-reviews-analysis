{
 "cells": [
  {
   "cell_type": "code",
   "execution_count": 1,
   "metadata": {},
   "outputs": [],
   "source": [
    "import pandas as pd\n",
    "import numpy as np\n",
    "import text_normalizer as tn\n",
    "from sklearn.metrics import classification_report\n",
    "from sklearn.feature_extraction.text import CountVectorizer, TfidfVectorizer\n",
    "from sklearn.linear_model import SGDClassifier, LogisticRegression\n"
   ]
  },
  {
   "cell_type": "code",
   "execution_count": 6,
   "metadata": {},
   "outputs": [],
   "source": [
    "dataset = pd.read_csv('movie_reviews.csv',index_col=0)"
   ]
  },
  {
   "cell_type": "code",
   "execution_count": 7,
   "metadata": {},
   "outputs": [
    {
     "data": {
      "text/html": [
       "<div>\n",
       "<style scoped>\n",
       "    .dataframe tbody tr th:only-of-type {\n",
       "        vertical-align: middle;\n",
       "    }\n",
       "\n",
       "    .dataframe tbody tr th {\n",
       "        vertical-align: top;\n",
       "    }\n",
       "\n",
       "    .dataframe thead th {\n",
       "        text-align: right;\n",
       "    }\n",
       "</style>\n",
       "<table border=\"1\" class=\"dataframe\">\n",
       "  <thead>\n",
       "    <tr style=\"text-align: right;\">\n",
       "      <th></th>\n",
       "      <th>sentiment</th>\n",
       "      <th>Review</th>\n",
       "    </tr>\n",
       "  </thead>\n",
       "  <tbody>\n",
       "    <tr>\n",
       "      <th>0</th>\n",
       "      <td>0</td>\n",
       "      <td>Imagine The Big Chill with a cast of twenty-so...</td>\n",
       "    </tr>\n",
       "    <tr>\n",
       "      <th>1</th>\n",
       "      <td>0</td>\n",
       "      <td>I'd have to say that I've seen worse Sci Fi Ch...</td>\n",
       "    </tr>\n",
       "    <tr>\n",
       "      <th>2</th>\n",
       "      <td>0</td>\n",
       "      <td>Director Fabio Barreto got a strange Academy N...</td>\n",
       "    </tr>\n",
       "    <tr>\n",
       "      <th>3</th>\n",
       "      <td>0</td>\n",
       "      <td>Pretty bad PRC cheapie which I rarely bother t...</td>\n",
       "    </tr>\n",
       "    <tr>\n",
       "      <th>4</th>\n",
       "      <td>1</td>\n",
       "      <td>This is a very intriguing short movie by David...</td>\n",
       "    </tr>\n",
       "  </tbody>\n",
       "</table>\n",
       "</div>"
      ],
      "text/plain": [
       "   sentiment                                             Review\n",
       "0          0  Imagine The Big Chill with a cast of twenty-so...\n",
       "1          0  I'd have to say that I've seen worse Sci Fi Ch...\n",
       "2          0  Director Fabio Barreto got a strange Academy N...\n",
       "3          0  Pretty bad PRC cheapie which I rarely bother t...\n",
       "4          1  This is a very intriguing short movie by David..."
      ]
     },
     "execution_count": 7,
     "metadata": {},
     "output_type": "execute_result"
    }
   ],
   "source": [
    "dataset.head()"
   ]
  },
  {
   "cell_type": "code",
   "execution_count": 9,
   "metadata": {},
   "outputs": [],
   "source": [
    "# Trainning and test datasets\n",
    "\n",
    "reviews = np.array(dataset['Review'])\n",
    "sentiments = np.array(dataset['sentiment'])\n",
    "\n",
    "train_reviews = reviews[:35000]\n",
    "train_sentiments = sentiments[:35000]\n",
    "test_reviews = reviews[35000:]\n",
    "test_sentiments = sentiments[35000:]"
   ]
  },
  {
   "cell_type": "code",
   "execution_count": 11,
   "metadata": {},
   "outputs": [
    {
     "name": "stdout",
     "output_type": "stream",
     "text": [
      "Wall time: 1h 30min 42s\n"
     ]
    }
   ],
   "source": [
    "%%time\n",
    "# Normalization \n",
    "\n",
    "norm_train_reviews = tn.normalize_corpus(train_reviews)\n",
    "norm_test_reviews = tn.normalize_corpus(test_reviews)"
   ]
  },
  {
   "cell_type": "markdown",
   "metadata": {},
   "source": [
    "## Supervised Models -> LR and SVM"
   ]
  },
  {
   "cell_type": "markdown",
   "metadata": {},
   "source": [
    "### Feature Engineering"
   ]
  },
  {
   "cell_type": "code",
   "execution_count": 13,
   "metadata": {},
   "outputs": [],
   "source": [
    "# build BOW features on train reviews\n",
    "cv = CountVectorizer(binary=False, min_df=0.0, max_df=1.0, ngram_range=(1,2))\n",
    "cv_train_features = cv.fit_transform(norm_train_reviews)\n",
    "\n",
    "# build TFIDF features on train reviews\n",
    "tv = TfidfVectorizer(use_idf=True, min_df=0.0, max_df=1.0, ngram_range=(1,2),\n",
    "                     sublinear_tf=True)\n",
    "tv_train_features = tv.fit_transform(norm_train_reviews)"
   ]
  },
  {
   "cell_type": "code",
   "execution_count": 14,
   "metadata": {},
   "outputs": [],
   "source": [
    "# transform test reviews into features\n",
    "cv_test_features = cv.transform(norm_test_reviews)\n",
    "tv_test_features = tv.transform(norm_test_reviews)"
   ]
  },
  {
   "cell_type": "code",
   "execution_count": 15,
   "metadata": {},
   "outputs": [
    {
     "name": "stdout",
     "output_type": "stream",
     "text": [
      "BOW model:> Train features shape: (35000, 2107020)  Test features shape: (15000, 2107020)\n",
      "TFIDF model:> Train features shape: (35000, 2107020)  Test features shape: (15000, 2107020)\n"
     ]
    }
   ],
   "source": [
    "print('BOW model:> Train features shape:', cv_train_features.shape, ' Test features shape:', cv_test_features.shape)\n",
    "print('TFIDF model:> Train features shape:', tv_train_features.shape, ' Test features shape:', tv_test_features.shape)"
   ]
  },
  {
   "cell_type": "markdown",
   "metadata": {},
   "source": [
    "## Model Trainning"
   ]
  },
  {
   "cell_type": "code",
   "execution_count": 16,
   "metadata": {},
   "outputs": [],
   "source": [
    "lr = LogisticRegression(penalty='l2', max_iter=100, C=1)\n",
    "svm = SGDClassifier(loss='hinge', max_iter=100)"
   ]
  },
  {
   "cell_type": "markdown",
   "metadata": {},
   "source": [
    "### Predictions"
   ]
  },
  {
   "cell_type": "markdown",
   "metadata": {},
   "source": [
    "lr using BOW"
   ]
  },
  {
   "cell_type": "code",
   "execution_count": 25,
   "metadata": {},
   "outputs": [
    {
     "name": "stdout",
     "output_type": "stream",
     "text": [
      "Wall time: 1min 2s\n"
     ]
    },
    {
     "name": "stderr",
     "output_type": "stream",
     "text": [
      "C:\\Users\\ddmas\\anaconda3\\envs\\env\\lib\\site-packages\\sklearn\\linear_model\\_logistic.py:938: ConvergenceWarning: lbfgs failed to converge (status=1):\n",
      "STOP: TOTAL NO. of ITERATIONS REACHED LIMIT.\n",
      "\n",
      "Increase the number of iterations (max_iter) or scale the data as shown in:\n",
      "    https://scikit-learn.org/stable/modules/preprocessing.html\n",
      "Please also refer to the documentation for alternative solver options:\n",
      "    https://scikit-learn.org/stable/modules/linear_model.html#logistic-regression\n",
      "  n_iter_i = _check_optimize_result(\n"
     ]
    }
   ],
   "source": [
    "%%time\n",
    "lr.fit(cv_train_features, train_sentiments)\n",
    "prediction_lr_bow = lr.predict(cv_test_features)"
   ]
  },
  {
   "cell_type": "markdown",
   "metadata": {},
   "source": [
    "Lr using TFIDF"
   ]
  },
  {
   "cell_type": "code",
   "execution_count": 26,
   "metadata": {},
   "outputs": [
    {
     "name": "stdout",
     "output_type": "stream",
     "text": [
      "Wall time: 46.2 s\n"
     ]
    }
   ],
   "source": [
    "%%time\n",
    "lr.fit(tv_train_features, train_sentiments)\n",
    "prediction_lr_tdidf = lr.predict(tv_test_features)"
   ]
  },
  {
   "cell_type": "markdown",
   "metadata": {},
   "source": [
    "SVM using BOW"
   ]
  },
  {
   "cell_type": "code",
   "execution_count": 27,
   "metadata": {},
   "outputs": [
    {
     "name": "stdout",
     "output_type": "stream",
     "text": [
      "Wall time: 1.74 s\n"
     ]
    }
   ],
   "source": [
    "%%time\n",
    "svm.fit(cv_train_features, train_sentiments)\n",
    "prediction_svm_bow = lr.predict(cv_test_features)"
   ]
  },
  {
   "cell_type": "markdown",
   "metadata": {},
   "source": [
    "SVM using TFIDF"
   ]
  },
  {
   "cell_type": "code",
   "execution_count": 28,
   "metadata": {},
   "outputs": [
    {
     "name": "stdout",
     "output_type": "stream",
     "text": [
      "Wall time: 1.69 s\n"
     ]
    }
   ],
   "source": [
    "%%time\n",
    "svm.fit(tv_train_features, train_sentiments)\n",
    "prediction_svm_tdidf = lr.predict(tv_test_features)"
   ]
  },
  {
   "cell_type": "markdown",
   "metadata": {},
   "source": [
    "## Evaluation"
   ]
  },
  {
   "cell_type": "code",
   "execution_count": 21,
   "metadata": {},
   "outputs": [],
   "source": [
    "# Evaluation Function\n",
    "def evaluation_report(test, prediction):\n",
    "\n",
    "    \n",
    "    correct_docs = (test == prediction).sum()\n",
    "    numdocs_wrong = test.shape[0] - correct_docs\n",
    "\n",
    "    # Confusion Matrix\n",
    "    true_pos = (test == 1) & (prediction == 1)\n",
    "    false_pos = (test == 0) & (prediction == 1)\n",
    "    false_neg = (test == 1) & (prediction == 0)\n",
    "    true_neg = (test == 0) & (prediction == 0)\n",
    "    \n",
    "    \n",
    "    # Accuracy\n",
    "    fraction_wrong = numdocs_wrong/len(test)\n",
    "    # Recall score\n",
    "    recall_score = true_pos.sum() / (true_pos.sum() + false_neg.sum())\n",
    "    # Precision Score\n",
    "    precision_score = true_pos.sum() / (true_pos.sum() + false_pos.sum())\n",
    "    # F1 Score\n",
    "    f1_score = 2 * (precision_score * recall_score) / (precision_score + recall_score)\n",
    "\n",
    "    \n",
    "    # Printing the evaluation \n",
    "    print('Model Performance metrics: ')\n",
    "    print('-'*20)\n",
    "    print('Accuracy of the model is {:.2%}'.format(1-fraction_wrong))\n",
    "    \n",
    "    print('Recall score is {:.2%}'.format(recall_score))\n",
    "    #print(re)\n",
    "    print('Precision score is {:.3}'.format(precision_score))\n",
    "\n",
    "    print('F1 Score is {:.2}'.format(f1_score))\n",
    "\n",
    "    \n",
    "    print('\\n Model Classification report:')\n",
    "    print('-'*20)\n",
    "    target = ['positive', 'negative']\n",
    "    print(classification_report(test, prediction, target_names=target))\n",
    "    \n",
    "    print('\\n Prediction Confusion Matrix:')\n",
    "    print('-'*20)\n",
    "    confusion_matrix = pd.DataFrame([[true_pos.sum(), false_neg.sum()],[false_pos.sum().sum(),true_neg.sum()]],\n",
    "                         columns=pd.MultiIndex(levels=[['predicted:'], \n",
    "                                                    ['positive', 'negative']], \n",
    "                                                    codes=[[0,0],[0,1]]),\n",
    "                         index = pd.MultiIndex(levels=[['Actual:'], \n",
    "                                                    ['positive', 'negative']], \n",
    "                                                    codes=[[0,0],[0,1]]))\n",
    "    print(confusion_matrix)"
   ]
  },
  {
   "cell_type": "code",
   "execution_count": 29,
   "metadata": {},
   "outputs": [
    {
     "name": "stdout",
     "output_type": "stream",
     "text": [
      "Logistic Regression results with Bow:\n",
      "Model Performance metrics: \n",
      "--------------------\n",
      "Accuracy of the model is 90.13%\n",
      "Recall score is 91.22%\n",
      "Precision score is 0.893\n",
      "F1 Score is 0.9\n",
      "\n",
      " Model Classification report:\n",
      "--------------------\n",
      "              precision    recall  f1-score   support\n",
      "\n",
      "    positive       0.91      0.89      0.90      7507\n",
      "    negative       0.89      0.91      0.90      7493\n",
      "\n",
      "    accuracy                           0.90     15000\n",
      "   macro avg       0.90      0.90      0.90     15000\n",
      "weighted avg       0.90      0.90      0.90     15000\n",
      "\n",
      "\n",
      " Prediction Confusion Matrix:\n",
      "--------------------\n",
      "                 predicted:         \n",
      "                   positive negative\n",
      "Actual: positive       6835      658\n",
      "        negative        823     6684\n"
     ]
    }
   ],
   "source": [
    "print('Logistic Regression results with Bow:')\n",
    "evaluation_report(test_sentiments, prediction_lr_bow)"
   ]
  },
  {
   "cell_type": "code",
   "execution_count": 30,
   "metadata": {},
   "outputs": [
    {
     "name": "stdout",
     "output_type": "stream",
     "text": [
      "Logistic Regression results with TD-IDF:\n",
      "Model Performance metrics: \n",
      "--------------------\n",
      "Accuracy of the model is 89.15%\n",
      "Recall score is 90.66%\n",
      "Precision score is 0.88\n",
      "F1 Score is 0.89\n",
      "\n",
      " Model Classification report:\n",
      "--------------------\n",
      "              precision    recall  f1-score   support\n",
      "\n",
      "    positive       0.90      0.88      0.89      7507\n",
      "    negative       0.88      0.91      0.89      7493\n",
      "\n",
      "    accuracy                           0.89     15000\n",
      "   macro avg       0.89      0.89      0.89     15000\n",
      "weighted avg       0.89      0.89      0.89     15000\n",
      "\n",
      "\n",
      " Prediction Confusion Matrix:\n",
      "--------------------\n",
      "                 predicted:         \n",
      "                   positive negative\n",
      "Actual: positive       6793      700\n",
      "        negative        927     6580\n"
     ]
    }
   ],
   "source": [
    "print('Logistic Regression results with TD-IDF:')\n",
    "evaluation_report(test_sentiments, prediction_lr_tdidf)"
   ]
  },
  {
   "cell_type": "code",
   "execution_count": 31,
   "metadata": {},
   "outputs": [
    {
     "name": "stdout",
     "output_type": "stream",
     "text": [
      "SVM results with BOW:\n",
      "Model Performance metrics: \n",
      "--------------------\n",
      "Accuracy of the model is 84.97%\n",
      "Recall score is 78.86%\n",
      "Precision score is 0.898\n",
      "F1 Score is 0.84\n",
      "\n",
      " Model Classification report:\n",
      "--------------------\n",
      "              precision    recall  f1-score   support\n",
      "\n",
      "    positive       0.81      0.91      0.86      7507\n",
      "    negative       0.90      0.79      0.84      7493\n",
      "\n",
      "    accuracy                           0.85     15000\n",
      "   macro avg       0.85      0.85      0.85     15000\n",
      "weighted avg       0.85      0.85      0.85     15000\n",
      "\n",
      "\n",
      " Prediction Confusion Matrix:\n",
      "--------------------\n",
      "                 predicted:         \n",
      "                   positive negative\n",
      "Actual: positive       5909     1584\n",
      "        negative        671     6836\n"
     ]
    }
   ],
   "source": [
    "print('SVM results with BOW:')\n",
    "evaluation_report(test_sentiments, prediction_svm_bow)"
   ]
  },
  {
   "cell_type": "code",
   "execution_count": 32,
   "metadata": {},
   "outputs": [
    {
     "name": "stdout",
     "output_type": "stream",
     "text": [
      "SVM results with TD-IDF:\n",
      "Model Performance metrics: \n",
      "--------------------\n",
      "Accuracy of the model is 89.15%\n",
      "Recall score is 90.66%\n",
      "Precision score is 0.88\n",
      "F1 Score is 0.89\n",
      "\n",
      " Model Classification report:\n",
      "--------------------\n",
      "              precision    recall  f1-score   support\n",
      "\n",
      "    positive       0.90      0.88      0.89      7507\n",
      "    negative       0.88      0.91      0.89      7493\n",
      "\n",
      "    accuracy                           0.89     15000\n",
      "   macro avg       0.89      0.89      0.89     15000\n",
      "weighted avg       0.89      0.89      0.89     15000\n",
      "\n",
      "\n",
      " Prediction Confusion Matrix:\n",
      "--------------------\n",
      "                 predicted:         \n",
      "                   positive negative\n",
      "Actual: positive       6793      700\n",
      "        negative        927     6580\n"
     ]
    }
   ],
   "source": [
    "print('SVM results with TD-IDF:')\n",
    "evaluation_report(test_sentiments, prediction_svm_tdidf)"
   ]
  },
  {
   "cell_type": "code",
   "execution_count": null,
   "metadata": {},
   "outputs": [],
   "source": []
  }
 ],
 "metadata": {
  "kernelspec": {
   "display_name": "Python 3",
   "language": "python",
   "name": "python3"
  },
  "language_info": {
   "codemirror_mode": {
    "name": "ipython",
    "version": 3
   },
   "file_extension": ".py",
   "mimetype": "text/x-python",
   "name": "python",
   "nbconvert_exporter": "python",
   "pygments_lexer": "ipython3",
   "version": "3.8.3"
  }
 },
 "nbformat": 4,
 "nbformat_minor": 4
}
